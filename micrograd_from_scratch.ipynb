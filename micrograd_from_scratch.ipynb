{
 "cells": [
  {
   "cell_type": "markdown",
   "metadata": {},
   "source": [
    "These 94 lines of code are everything that is needed to train a neural network. Everything else is just efficiency.\n",
    "\n",
    "This is my earlier project Micrograd. It implements a scalar-valued auto-grad engine. You start with some numbers at the leafs (usually the input data and the neural network parameters), build up a computational graph with operations like + and * that mix them, and the graph ends with a single value at the very end (the loss). You then go backwards through the graph applying chain rule at each node to calculate the gradients. The gradients tell you how to nudge your parameters to decrease the loss (and hence improve your network).\n",
    "\n",
    "Sometimes when things get too complicated, I come back to this code and just breathe a little. But ok ok you also do have to know what the computational graph should be (e.g. MLP -> Transformer), what the loss function should be (e.g. autoregressive/diffusion), how to best use the gradients for a parameter update (e.g. SGD -> AdamW) etc etc. But it is the core of what is mostly happening.\n",
    "\n",
    "The 1986 paper from Rumelhart, Hinton, Williams that popularized and used this algorithm (backpropagation) for training neural nets:\n",
    "\n",
    "https://x.com/karpathy/status/1803963383018066272"
   ]
  },
  {
   "cell_type": "code",
   "execution_count": 1,
   "metadata": {},
   "outputs": [],
   "source": [
    "import math\n",
    "import numpy as np\n",
    "import matplotlib.pyplot as plt\n",
    "%matplotlib inline\n",
    "import random"
   ]
  },
  {
   "cell_type": "code",
   "execution_count": 3,
   "metadata": {},
   "outputs": [],
   "source": [
    "def f(x):\n",
    "    return 3*x**2 - 4*x + 5"
   ]
  },
  {
   "cell_type": "code",
   "execution_count": 3,
   "metadata": {},
   "outputs": [
    {
     "data": {
      "text/plain": [
       "20.0"
      ]
     },
     "execution_count": 3,
     "metadata": {},
     "output_type": "execute_result"
    }
   ],
   "source": [
    "f(3.0)"
   ]
  },
  {
   "cell_type": "code",
   "execution_count": 4,
   "metadata": {},
   "outputs": [
    {
     "data": {
      "text/plain": [
       "[<matplotlib.lines.Line2D at 0x7fb5b4648410>]"
      ]
     },
     "execution_count": 4,
     "metadata": {},
     "output_type": "execute_result"
    },
    {
     "data": {
      "image/png": "[encoded data removed]",
      "text/plain": [
       "<Figure size 640x480 with 1 Axes>"
      ]
     },
     "metadata": {},
     "output_type": "display_data"
    }
   ],
   "source": [
    "xs = np.arange(-5, 5, 0.25)\n",
    "ys = f(xs)\n",
    "plt.plot(xs, ys)"
   ]
  },
  {
   "cell_type": "code",
   "execution_count": 5,
   "metadata": {},
   "outputs": [
    {
     "data": {
      "text/plain": [
       "14.000001158365194"
      ]
     },
     "execution_count": 5,
     "metadata": {},
     "output_type": "execute_result"
    }
   ],
   "source": [
    "# The derivative is the slope at a given point in a function\n",
    "# It tells us how much a given function will increase or decrease in a given point\n",
    "\n",
    "h = 0.0000000001\n",
    "x = 3\n",
    "(f(x + h) - f(x))/h"
   ]
  },
  {
   "cell_type": "code",
   "execution_count": 6,
   "metadata": {},
   "outputs": [
    {
     "name": "stdout",
     "output_type": "stream",
     "text": [
      "d1 4.0\n",
      "d2 3.9999999997\n",
      "slope -3.000000248221113\n"
     ]
    }
   ],
   "source": [
    "# inputs\n",
    "a = 2.0\n",
    "b = -3.0\n",
    "c = 10.0\n",
    "\n",
    "d1 = a*b + c\n",
    "a += h\n",
    "d2 = a*b + c\n",
    "\n",
    "print('d1', d1)\n",
    "print('d2', d2)\n",
    "print('slope', (d2 - d1)/h)"
   ]
  },
  {
   "cell_type": "code",
   "execution_count": null,
   "metadata": {},
   "outputs": [],
   "source": [
    "class Value:\n",
    "\n",
    "    def __init__(self, data, _children=(), _op='', label=''):\n",
    "        self.data = data\n",
    "        # Gradient of 0 means no effect\n",
    "        # AKA changing the variable has no effect on the loss function\n",
    "        self.grad = 0.0\n",
    "        self._backward = lambda: None\n",
    "        self._prev = set(_children)\n",
    "        self._op = _op\n",
    "        self.label = label\n",
    "\n",
    "    def __repr__(self) -> str:\n",
    "        return f\"Value(data={self.data})\"\n",
    "    \n",
    "    def __add__(self, other):\n",
    "        # Allows us to do Value(2.0) + 1.0\n",
    "        other = other if isinstance(other, Value) else Value(other)\n",
    "        out = Value(self.data + other.data, (self, other), '+')\n",
    "\n",
    "        def _backward():\n",
    "            # Local deriv of addition is just 1.0\n",
    "            # with chain rule we just multiply that times the subsequent \n",
    "            # Value's gradient.\n",
    "            # Note gradients accumulate (in case values are used more than once\n",
    "            # in a graph)\n",
    "            self.grad += 1.0 * out.grad\n",
    "            other.grad += 1.0 * out.grad\n",
    "        \n",
    "        out._backward = _backward\n",
    "        return out\n",
    "    \n",
    "    def __radd__(self, other):\n",
    "        return self + other\n",
    "    \n",
    "    def __mul__(self, other):\n",
    "        other = other if isinstance(other, Value) else Value(other)\n",
    "        out = Value(self.data * other.data, (self, other), '*')\n",
    "\n",
    "        def _backward():\n",
    "            # Local deriv of multiply is the other var we multiply by\n",
    "            self.grad += other.data * out.grad\n",
    "            other.grad += self.data * out.grad\n",
    "\n",
    "        out._backward = _backward\n",
    "        return out\n",
    "    \n",
    "    def __pow__(self, other):\n",
    "        assert isinstance(other, (int, float)), \"only support int/float powers for now\"\n",
    "        out = Value(self.data**other, (self,), f\"**{other}\")\n",
    "\n",
    "        def _backward():\n",
    "            self.grad += (other * self.data**(other - 1)) * out.grad\n",
    "        \n",
    "        out._backward = _backward\n",
    "        return out\n",
    "    \n",
    "    def __rmul__(self, other):\n",
    "        # This is just a special python function that lets us also do\n",
    "        # 2.0 * Value(3.0)\n",
    "        return self * other\n",
    "    \n",
    "    def __truediv__(self, other): # self / other\n",
    "        # This is another way to represent division\n",
    "        return self * other**-1\n",
    "    \n",
    "    def __neg__(self):\n",
    "        return self * -1\n",
    "\n",
    "    def __sub__(self, other):\n",
    "        return self + (-other)\n",
    "\n",
    "    def tanh(self):\n",
    "        x = self.data\n",
    "        # The formula for tanh\n",
    "        t = (math.exp(2*x) - 1) / (math.exp(2*x) + 1)\n",
    "        out = Value(t, (self, ), 'tanh')\n",
    "\n",
    "        def _backward():\n",
    "            # Local deriv of tan (basically just from wikipedia)\n",
    "            self.grad += (1 - t**2) * out.grad\n",
    "\n",
    "        out._backward = _backward\n",
    "        return out\n",
    "    \n",
    "    def exp(self):\n",
    "        x = self.data\n",
    "        out = Value(math.exp(x), (self, ), 'exp')\n",
    "\n",
    "        def _backward():\n",
    "            self.grad += out.data * out.grad\n",
    "        \n",
    "        out._backward = _backward\n",
    "        return out\n",
    "    \n",
    "    def backward(self):\n",
    "        # Here we just build a topological sort of the graph\n",
    "        # This basically just orders all nodes start to finish, making sure\n",
    "        # when we do backwards, we never hit a node before all of its dependencies were\n",
    "        # visited\n",
    "        topo = []\n",
    "        visited = set()\n",
    "        def build_topo(v):\n",
    "            if v not in visited:\n",
    "                visited.add(v)\n",
    "                for child in v._prev:\n",
    "                    build_topo(child)\n",
    "                topo.append(v)\n",
    "        build_topo(self)\n",
    "        \n",
    "        self.grad = 1.0\n",
    "        for node in reversed(topo):\n",
    "            node._backward()"
   ]
  },
  {
   "cell_type": "code",
   "execution_count": 280,
   "metadata": {},
   "outputs": [
    {
     "data": {
      "text/plain": [
       "Value(data=-8.0)"
      ]
     },
     "execution_count": 280,
     "metadata": {},
     "output_type": "execute_result"
    }
   ],
   "source": [
    "a = Value(2.0, label='a')\n",
    "b = Value(-3.0, label='b')\n",
    "c = Value(10.0, label='c')\n",
    "e = a*b; e.label = 'e'\n",
    "d = e + c; d.label='d'\n",
    "f = Value(-2.0, label='f')\n",
    "L = d * f; L.label = 'L'\n",
    "L"
   ]
  },
  {
   "cell_type": "code",
   "execution_count": 282,
   "metadata": {},
   "outputs": [],
   "source": [
    "L.backward()"
   ]
  },
  {
   "cell_type": "code",
   "execution_count": 12,
   "metadata": {},
   "outputs": [
    {
     "data": {
      "text/plain": [
       "({Value(data=-2.0), Value(data=4.0)}, '*')"
      ]
     },
     "execution_count": 12,
     "metadata": {},
     "output_type": "execute_result"
    }
   ],
   "source": [
    "\n",
    "L._prev, L._op"
   ]
  },
  {
   "cell_type": "code",
   "execution_count": 223,
   "metadata": {},
   "outputs": [],
   "source": [
    "from graphviz import Digraph\n",
    "\n",
    "def trace(root):\n",
    "  # builds a set of all nodes and edges in a graph\n",
    "  nodes, edges = set(), set()\n",
    "  def build(v):\n",
    "    if v not in nodes:\n",
    "      nodes.add(v)\n",
    "      for child in v._prev:\n",
    "        edges.add((child, v))\n",
    "        build(child)\n",
    "  build(root)\n",
    "  return nodes, edges\n",
    "\n",
    "def draw_dot(root):\n",
    "  dot = Digraph(format='svg', graph_attr={'rankdir': 'LR'}) # LR = left to right\n",
    "  \n",
    "  nodes, edges = trace(root)\n",
    "  for n in nodes:\n",
    "    uid = str(id(n))\n",
    "    # for any value in the graph, create a rectangular ('record') node for it\n",
    "    dot.node(name = uid, label = \"{ %s | data %.4f | grad % .4f}\" % (n.label, n.data, n.grad), shape='record')\n",
    "    if n._op:\n",
    "      # if this value is a result of some operation, create an op node for it\n",
    "      dot.node(name = uid + n._op, label = n._op)\n",
    "      # and connect this node to it\n",
    "      dot.edge(uid + n._op, uid)\n",
    "\n",
    "  for n1, n2 in edges:\n",
    "    # connect n1 to the op node of n2\n",
    "    dot.edge(str(id(n1)), str(id(n2)) + n2._op)\n",
    "\n",
    "  return dot"
   ]
  },
  {
   "cell_type": "code",
   "execution_count": 16,
   "metadata": {},
   "outputs": [
    {
     "data": {
      "image/svg+xml": [
       "<?xml version=\"1.0\" encoding=\"UTF-8\" standalone=\"no\"?>\n",
       "<!DOCTYPE svg PUBLIC \"-//W3C//DTD SVG 1.1//EN\"\n",
       " \"http://www.w3.org/Graphics/SVG/1.1/DTD/svg11.dtd\">\n",
       "<!-- Generated by graphviz version 9.0.0 (20231125.0833)\n",
       " -->\n",
       "<!-- Pages: 1 -->\n",
       "<svg width=\"1118pt\" height=\"156pt\"\n",
       " viewBox=\"0.00 0.00 1118.00 156.00\" xmlns=\"http://www.w3.org/2000/svg\" xmlns:xlink=\"http://www.w3.org/1999/xlink\">\n",
       "<g id=\"graph0\" class=\"graph\" transform=\"scale(1 1) rotate(0) translate(4 152)\">\n",
       "<polygon fill=\"white\" stroke=\"none\" points=\"-4,4 -4,-152 1114,-152 1114,4 -4,4\"/>\n",
       "<!-- 139804758265232 -->\n",
       "<g id=\"node1\" class=\"node\">\n",
       "<title>139804758265232</title>\n",
       "<polygon fill=\"none\" stroke=\"black\" points=\"0,-111.5 0,-147.5 184.5,-147.5 184.5,-111.5 0,-111.5\"/>\n",
       "<text text-anchor=\"middle\" x=\"12.5\" y=\"-125.2\" font-family=\"Times,serif\" font-size=\"14.00\">b</text>\n",
       "<polyline fill=\"none\" stroke=\"black\" points=\"25,-112.25 25,-147.5\"/>\n",
       "<text text-anchor=\"middle\" x=\"64.5\" y=\"-125.2\" font-family=\"Times,serif\" font-size=\"14.00\">data &#45;3.0</text>\n",
       "<polyline fill=\"none\" stroke=\"black\" points=\"104,-112.25 104,-147.5\"/>\n",
       "<text text-anchor=\"middle\" x=\"144.25\" y=\"-125.2\" font-family=\"Times,serif\" font-size=\"14.00\">grad &#45;4.0</text>\n",
       "</g>\n",
       "<!-- 139804758271376* -->\n",
       "<g id=\"node9\" class=\"node\">\n",
       "<title>139804758271376*</title>\n",
       "<ellipse fill=\"none\" stroke=\"black\" cx=\"247.5\" cy=\"-101.5\" rx=\"27\" ry=\"18\"/>\n",
       "<text text-anchor=\"middle\" x=\"247.5\" y=\"-96.83\" font-family=\"Times,serif\" font-size=\"14.00\">*</text>\n",
       "</g>\n",
       "<!-- 139804758265232&#45;&gt;139804758271376* -->\n",
       "<g id=\"edge6\" class=\"edge\">\n",
       "<title>139804758265232&#45;&gt;139804758271376*</title>\n",
       "<path fill=\"none\" stroke=\"black\" d=\"M184.61,-112.81C193.46,-111.19 202.04,-109.62 209.86,-108.2\"/>\n",
       "<polygon fill=\"black\" stroke=\"black\" points=\"210.36,-111.66 219.57,-106.42 209.1,-104.78 210.36,-111.66\"/>\n",
       "</g>\n",
       "<!-- 139804758267792 -->\n",
       "<g id=\"node2\" class=\"node\">\n",
       "<title>139804758267792</title>\n",
       "<polygon fill=\"none\" stroke=\"black\" points=\"930,-27.5 930,-63.5 1110,-63.5 1110,-27.5 930,-27.5\"/>\n",
       "<text text-anchor=\"middle\" x=\"942.5\" y=\"-41.2\" font-family=\"Times,serif\" font-size=\"14.00\">L</text>\n",
       "<polyline fill=\"none\" stroke=\"black\" points=\"955,-28.25 955,-63.5\"/>\n",
       "<text text-anchor=\"middle\" x=\"994.5\" y=\"-41.2\" font-family=\"Times,serif\" font-size=\"14.00\">data &#45;8.0</text>\n",
       "<polyline fill=\"none\" stroke=\"black\" points=\"1034,-28.25 1034,-63.5\"/>\n",
       "<text text-anchor=\"middle\" x=\"1072\" y=\"-41.2\" font-family=\"Times,serif\" font-size=\"14.00\">grad 1.0</text>\n",
       "</g>\n",
       "<!-- 139804758267792* -->\n",
       "<g id=\"node3\" class=\"node\">\n",
       "<title>139804758267792*</title>\n",
       "<ellipse fill=\"none\" stroke=\"black\" cx=\"867\" cy=\"-45.5\" rx=\"27\" ry=\"18\"/>\n",
       "<text text-anchor=\"middle\" x=\"867\" y=\"-40.83\" font-family=\"Times,serif\" font-size=\"14.00\">*</text>\n",
       "</g>\n",
       "<!-- 139804758267792*&#45;&gt;139804758267792 -->\n",
       "<g id=\"edge1\" class=\"edge\">\n",
       "<title>139804758267792*&#45;&gt;139804758267792</title>\n",
       "<path fill=\"none\" stroke=\"black\" d=\"M894.3,-45.5C901.49,-45.5 909.73,-45.5 918.48,-45.5\"/>\n",
       "<polygon fill=\"black\" stroke=\"black\" points=\"918.28,-49 928.28,-45.5 918.28,-42 918.28,-49\"/>\n",
       "</g>\n",
       "<!-- 139804758270672 -->\n",
       "<g id=\"node4\" class=\"node\">\n",
       "<title>139804758270672</title>\n",
       "<polygon fill=\"none\" stroke=\"black\" points=\"310.5,-28.5 310.5,-64.5 498,-64.5 498,-28.5 310.5,-28.5\"/>\n",
       "<text text-anchor=\"middle\" x=\"322.25\" y=\"-42.2\" font-family=\"Times,serif\" font-size=\"14.00\">c</text>\n",
       "<polyline fill=\"none\" stroke=\"black\" points=\"334,-29.25 334,-64.5\"/>\n",
       "<text text-anchor=\"middle\" x=\"375.75\" y=\"-42.2\" font-family=\"Times,serif\" font-size=\"14.00\">data 10.0</text>\n",
       "<polyline fill=\"none\" stroke=\"black\" points=\"417.5,-29.25 417.5,-64.5\"/>\n",
       "<text text-anchor=\"middle\" x=\"457.75\" y=\"-42.2\" font-family=\"Times,serif\" font-size=\"14.00\">grad &#45;2.0</text>\n",
       "</g>\n",
       "<!-- 139804758269264+ -->\n",
       "<g id=\"node7\" class=\"node\">\n",
       "<title>139804758269264+</title>\n",
       "<ellipse fill=\"none\" stroke=\"black\" cx=\"561\" cy=\"-73.5\" rx=\"27\" ry=\"18\"/>\n",
       "<text text-anchor=\"middle\" x=\"561\" y=\"-68.83\" font-family=\"Times,serif\" font-size=\"14.00\">+</text>\n",
       "</g>\n",
       "<!-- 139804758270672&#45;&gt;139804758269264+ -->\n",
       "<g id=\"edge8\" class=\"edge\">\n",
       "<title>139804758270672&#45;&gt;139804758269264+</title>\n",
       "<path fill=\"none\" stroke=\"black\" d=\"M498.39,-62.75C507.15,-64.28 515.63,-65.76 523.34,-67.1\"/>\n",
       "<polygon fill=\"black\" stroke=\"black\" points=\"522.47,-70.51 532.93,-68.78 523.68,-63.61 522.47,-70.51\"/>\n",
       "</g>\n",
       "<!-- 139804758262544 -->\n",
       "<g id=\"node5\" class=\"node\">\n",
       "<title>139804758262544</title>\n",
       "<polygon fill=\"none\" stroke=\"black\" points=\"625.88,-0.5 625.88,-36.5 802.12,-36.5 802.12,-0.5 625.88,-0.5\"/>\n",
       "<text text-anchor=\"middle\" x=\"636.5\" y=\"-14.2\" font-family=\"Times,serif\" font-size=\"14.00\">f</text>\n",
       "<polyline fill=\"none\" stroke=\"black\" points=\"647.12,-1.25 647.12,-36.5\"/>\n",
       "<text text-anchor=\"middle\" x=\"686.62\" y=\"-14.2\" font-family=\"Times,serif\" font-size=\"14.00\">data &#45;2.0</text>\n",
       "<polyline fill=\"none\" stroke=\"black\" points=\"726.12,-1.25 726.12,-36.5\"/>\n",
       "<text text-anchor=\"middle\" x=\"764.12\" y=\"-14.2\" font-family=\"Times,serif\" font-size=\"14.00\">grad 4.0</text>\n",
       "</g>\n",
       "<!-- 139804758262544&#45;&gt;139804758267792* -->\n",
       "<g id=\"edge4\" class=\"edge\">\n",
       "<title>139804758262544&#45;&gt;139804758267792*</title>\n",
       "<path fill=\"none\" stroke=\"black\" d=\"M802.4,-34.13C811.89,-35.82 821.12,-37.47 829.47,-38.97\"/>\n",
       "<polygon fill=\"black\" stroke=\"black\" points=\"828.68,-42.38 839.14,-40.7 829.91,-35.49 828.68,-42.38\"/>\n",
       "</g>\n",
       "<!-- 139804758269264 -->\n",
       "<g id=\"node6\" class=\"node\">\n",
       "<title>139804758269264</title>\n",
       "<polygon fill=\"none\" stroke=\"black\" points=\"624,-55.5 624,-91.5 804,-91.5 804,-55.5 624,-55.5\"/>\n",
       "<text text-anchor=\"middle\" x=\"636.5\" y=\"-69.2\" font-family=\"Times,serif\" font-size=\"14.00\">d</text>\n",
       "<polyline fill=\"none\" stroke=\"black\" points=\"649,-56.25 649,-91.5\"/>\n",
       "<text text-anchor=\"middle\" x=\"686.25\" y=\"-69.2\" font-family=\"Times,serif\" font-size=\"14.00\">data 4.0</text>\n",
       "<polyline fill=\"none\" stroke=\"black\" points=\"723.5,-56.25 723.5,-91.5\"/>\n",
       "<text text-anchor=\"middle\" x=\"763.75\" y=\"-69.2\" font-family=\"Times,serif\" font-size=\"14.00\">grad &#45;2.0</text>\n",
       "</g>\n",
       "<!-- 139804758269264&#45;&gt;139804758267792* -->\n",
       "<g id=\"edge5\" class=\"edge\">\n",
       "<title>139804758269264&#45;&gt;139804758267792*</title>\n",
       "<path fill=\"none\" stroke=\"black\" d=\"M804.15,-56.97C812.97,-55.33 821.53,-53.75 829.33,-52.3\"/>\n",
       "<polygon fill=\"black\" stroke=\"black\" points=\"829.84,-55.76 839.04,-50.5 828.56,-48.88 829.84,-55.76\"/>\n",
       "</g>\n",
       "<!-- 139804758269264+&#45;&gt;139804758269264 -->\n",
       "<g id=\"edge2\" class=\"edge\">\n",
       "<title>139804758269264+&#45;&gt;139804758269264</title>\n",
       "<path fill=\"none\" stroke=\"black\" d=\"M588.3,-73.5C595.49,-73.5 603.73,-73.5 612.48,-73.5\"/>\n",
       "<polygon fill=\"black\" stroke=\"black\" points=\"612.28,-77 622.28,-73.5 612.28,-70 612.28,-77\"/>\n",
       "</g>\n",
       "<!-- 139804758271376 -->\n",
       "<g id=\"node8\" class=\"node\">\n",
       "<title>139804758271376</title>\n",
       "<polygon fill=\"none\" stroke=\"black\" points=\"312.38,-83.5 312.38,-119.5 496.12,-119.5 496.12,-83.5 312.38,-83.5\"/>\n",
       "<text text-anchor=\"middle\" x=\"324.5\" y=\"-97.2\" font-family=\"Times,serif\" font-size=\"14.00\">e</text>\n",
       "<polyline fill=\"none\" stroke=\"black\" points=\"336.62,-84.25 336.62,-119.5\"/>\n",
       "<text text-anchor=\"middle\" x=\"376.12\" y=\"-97.2\" font-family=\"Times,serif\" font-size=\"14.00\">data &#45;6.0</text>\n",
       "<polyline fill=\"none\" stroke=\"black\" points=\"415.62,-84.25 415.62,-119.5\"/>\n",
       "<text text-anchor=\"middle\" x=\"455.88\" y=\"-97.2\" font-family=\"Times,serif\" font-size=\"14.00\">grad &#45;2.0</text>\n",
       "</g>\n",
       "<!-- 139804758271376&#45;&gt;139804758269264+ -->\n",
       "<g id=\"edge9\" class=\"edge\">\n",
       "<title>139804758271376&#45;&gt;139804758269264+</title>\n",
       "<path fill=\"none\" stroke=\"black\" d=\"M496.61,-84.97C506.04,-83.26 515.18,-81.61 523.45,-80.11\"/>\n",
       "<polygon fill=\"black\" stroke=\"black\" points=\"523.8,-83.61 533.01,-78.38 522.55,-76.72 523.8,-83.61\"/>\n",
       "</g>\n",
       "<!-- 139804758271376*&#45;&gt;139804758271376 -->\n",
       "<g id=\"edge3\" class=\"edge\">\n",
       "<title>139804758271376*&#45;&gt;139804758271376</title>\n",
       "<path fill=\"none\" stroke=\"black\" d=\"M274.75,-101.5C282.44,-101.5 291.34,-101.5 300.8,-101.5\"/>\n",
       "<polygon fill=\"black\" stroke=\"black\" points=\"300.62,-105 310.62,-101.5 300.62,-98 300.62,-105\"/>\n",
       "</g>\n",
       "<!-- 139804758270416 -->\n",
       "<g id=\"node10\" class=\"node\">\n",
       "<title>139804758270416</title>\n",
       "<polygon fill=\"none\" stroke=\"black\" points=\"4.88,-56.5 4.88,-92.5 179.62,-92.5 179.62,-56.5 4.88,-56.5\"/>\n",
       "<text text-anchor=\"middle\" x=\"17\" y=\"-70.2\" font-family=\"Times,serif\" font-size=\"14.00\">a</text>\n",
       "<polyline fill=\"none\" stroke=\"black\" points=\"29.12,-57.25 29.12,-92.5\"/>\n",
       "<text text-anchor=\"middle\" x=\"66.38\" y=\"-70.2\" font-family=\"Times,serif\" font-size=\"14.00\">data 2.0</text>\n",
       "<polyline fill=\"none\" stroke=\"black\" points=\"103.62,-57.25 103.62,-92.5\"/>\n",
       "<text text-anchor=\"middle\" x=\"141.62\" y=\"-70.2\" font-family=\"Times,serif\" font-size=\"14.00\">grad 6.0</text>\n",
       "</g>\n",
       "<!-- 139804758270416&#45;&gt;139804758271376* -->\n",
       "<g id=\"edge7\" class=\"edge\">\n",
       "<title>139804758270416&#45;&gt;139804758271376*</title>\n",
       "<path fill=\"none\" stroke=\"black\" d=\"M179.73,-89.74C190.33,-91.6 200.67,-93.43 209.93,-95.06\"/>\n",
       "<polygon fill=\"black\" stroke=\"black\" points=\"209.06,-98.46 219.52,-96.75 210.28,-91.56 209.06,-98.46\"/>\n",
       "</g>\n",
       "</g>\n",
       "</svg>\n"
      ],
      "text/plain": [
       "<graphviz.graphs.Digraph at 0x7f26d4fd7690>"
      ]
     },
     "execution_count": 16,
     "metadata": {},
     "output_type": "execute_result"
    }
   ],
   "source": [
    "# We keep track of everything that happens to each value (\"weight\")\n",
    "# because we want to know how much a change in each weight influences the\n",
    "# loss function, aka their derivatives/gradients.\n",
    "draw_dot(L)"
   ]
  },
  {
   "cell_type": "markdown",
   "metadata": {},
   "source": [
    "L = d * f\n",
    "\n",
    "dL / dd =? f\n",
    "\n",
    "### Definition of a derivative\n",
    "It is the limit as h goes to 0 of this expression of instanenous change.\n",
    "This is a proof that shows how much L changes as h approaches 0.\n",
    "It says that deriv of L with respect to d is just f.\n",
    "Note that f() is \"function\" in calculus, but below that we are using f\n",
    "the variable name.\n",
    "\n",
    "(f(x + h) - f(x)) / h\n",
    "\n",
    "((d+h)*f - d*f) / h\n",
    "\n",
    "(d*f + h*f - d*f) / h\n",
    "\n",
    "d*f cancels out\n",
    "\n",
    "(h*f) / h\n",
    "\n",
    "f\n",
    "\n",
    "\n",
    "The most important variable to consider here is c.\n",
    "If we know how much wiggling d affects L, how can we figure out how much\n",
    "wiggling c affects L if there's another step?\n",
    "\n",
    "It boils down to knowing how wiggling c affects d, and since we know how much \n",
    "d affects L, we can combine the two to know the final impact.\n",
    "\n",
    "Get the derivative of d with respect to c.\n",
    "\n",
    "dd / dc =? 1.0\n",
    "\n",
    "d = c + e\n",
    "\n",
    "(f(x+h) - f(x)) / h\n",
    "\n",
    "((c+h)+e - (c+e)) / h\n",
    "\n",
    "(c + h + e - c - e) / h\n",
    "\n",
    "c and e cancel out\n",
    "\n",
    "h / h = 1\n",
    "\n",
    "Likewise, dd/de is also 1. So the derivative of a sum expression is very simple.\n",
    "\n",
    "In calculus, [the chain rule](https://en.wikipedia.org/wiki/Chain_rule) indicates\n",
    "that the derivative of L with respect to c is just the derivative of d with respect to c\n",
    "times the derivative of L with respect to d. In other words, we just multiply \n",
    "the intermediate derivatives.\n",
    "\n",
    "\"\"If a car travels twice as fast as a bicycle and the bicycle is four times as fast as a walking man, then the car travels 2 × 4 = 8 times as fast as the man.\"\n",
    "\n",
    "In our example then:\n",
    "\n",
    "dL / dc = (dL / dd) * (dd / dc)\n",
    "\n",
    "We already know dL/dd is -2, and we know dd/dc is 1, so dL/dc = -2 * 1 = -2"
   ]
  },
  {
   "cell_type": "code",
   "execution_count": 10,
   "metadata": {},
   "outputs": [],
   "source": [
    "L.grad = 1\n",
    "# By the definition above, f is just d\n",
    "# and d is just f\n",
    "f.grad = 4.0\n",
    "d.grad = -2.0\n",
    "# By chain rule\n",
    "c.grad = -2.0 * 1\n",
    "e.grad = -2.0 * 1\n",
    "# Carry chain rule onward as we go backward\n",
    "# Each node only knows its own local derivative, but you can deriv\n",
    "# the complete deriv of the loss function using the chain rule\n",
    "a.grad = (-2.0 * 1) * -3.0\n",
    "b.grad = (-2.0 * 1) * 2.0"
   ]
  },
  {
   "cell_type": "code",
   "execution_count": 17,
   "metadata": {},
   "outputs": [
    {
     "name": "stdout",
     "output_type": "stream",
     "text": [
      "-7.286496\n"
     ]
    }
   ],
   "source": [
    "# Use gradient descent to step each variable in the direction of the gradient\n",
    "a.data += 0.01 * a.grad\n",
    "b.data += 0.01 * b.grad\n",
    "c.data += 0.01 * c.grad\n",
    "f.data += 0.01 * f.grad\n",
    "\n",
    "# Performing the forward pass again shows us we get a slightly improved loss function\n",
    "e = a * b\n",
    "d = e + c\n",
    "L = d * f\n",
    "\n",
    "print(L.data)"
   ]
  },
  {
   "cell_type": "code",
   "execution_count": 6,
   "metadata": {},
   "outputs": [
    {
     "name": "stdout",
     "output_type": "stream",
     "text": [
      "3.9999999999995595\n"
     ]
    }
   ],
   "source": [
    "# This is the empirical way of determining the drivative of L with respect to\n",
    "# one of the variables.\n",
    "# In other words, we're actually incrementing a variable and recalculating L\n",
    "# and its rate of change at that h.\n",
    "def lol():\n",
    "    h = 0.0001\n",
    "\n",
    "    a = Value(2.0, label='a')\n",
    "    b = Value(-3.0, label='b')\n",
    "    c = Value(10.0, label='c')\n",
    "    e = a*b; e.label = 'e'\n",
    "    d = e + c; d.label='d'\n",
    "    f = Value(-2.0, label='f')\n",
    "    L = d * f; L.label = 'L'\n",
    "    L1 = L.data\n",
    "\n",
    "    a = Value(2.0, label='a')\n",
    "    b = Value(-3.0, label='b')\n",
    "    c = Value(10.0, label='c')\n",
    "    e = a*b; e.label = 'e'\n",
    "    d = e + c; d.label='d'\n",
    "    f = Value(-2.0 + h, label='f')\n",
    "    L = d * f; L.label = 'L'\n",
    "    L2 = L.data\n",
    "\n",
    "    # Derivative of L with respect to a\n",
    "    # AKA rate of change of L when a is changed by small amount h\n",
    "    print((L2 - L1) / h)\n",
    "\n",
    "lol()"
   ]
  },
  {
   "cell_type": "code",
   "execution_count": 12,
   "metadata": {},
   "outputs": [],
   "source": [
    "# A more interesting/realistic neural net - 2 inputs and weights, a bias, and \n",
    "# an activation function, tanh\n",
    "\n",
    "# inputs x1,x2\n",
    "x1 = Value(2.0, label='x1')\n",
    "x2 = Value(0.0, label='x2')\n",
    "# weights w1,w2\n",
    "w1 = Value(-3.0, label='w1')\n",
    "w2 = Value(1.0, label='w2')\n",
    "# bias of the neuron\n",
    "b = Value(6.8813735870195432, label='b')\n",
    "# x1*w1 + x2*w2 + b\n",
    "x1w1 = x1*w1; x1w1.label = 'x1*w1'\n",
    "x2w2 = x2*w2; x2w2.label = 'x2*w2'\n",
    "x1w1x2w2 = x1w1 + x2w2; x1w1x2w2.label = 'x1*w1 + x2*w2'\n",
    "n = x1w1x2w2 + b; n.label = 'n'\n",
    "o = n.tanh(); o.label = 'o'"
   ]
  },
  {
   "cell_type": "code",
   "execution_count": 15,
   "metadata": {},
   "outputs": [
    {
     "data": {
      "image/svg+xml": [
       "<?xml version=\"1.0\" encoding=\"UTF-8\" standalone=\"no\"?>\n",
       "<!DOCTYPE svg PUBLIC \"-//W3C//DTD SVG 1.1//EN\"\n",
       " \"http://www.w3.org/Graphics/SVG/1.1/DTD/svg11.dtd\">\n",
       "<!-- Generated by graphviz version 9.0.0 (20231125.0833)\n",
       " -->\n",
       "<!-- Pages: 1 -->\n",
       "<svg width=\"1566pt\" height=\"210pt\"\n",
       " viewBox=\"0.00 0.00 1565.94 210.00\" xmlns=\"http://www.w3.org/2000/svg\" xmlns:xlink=\"http://www.w3.org/1999/xlink\">\n",
       "<g id=\"graph0\" class=\"graph\" transform=\"scale(1 1) rotate(0) translate(4 206)\">\n",
       "<polygon fill=\"white\" stroke=\"none\" points=\"-4,4 -4,-206 1561.94,-206 1561.94,4 -4,4\"/>\n",
       "<!-- 140190967230544 -->\n",
       "<g id=\"node1\" class=\"node\">\n",
       "<title>140190967230544</title>\n",
       "<polygon fill=\"none\" stroke=\"black\" points=\"2.25,-165.5 2.25,-201.5 189.75,-201.5 189.75,-165.5 2.25,-165.5\"/>\n",
       "<text text-anchor=\"middle\" x=\"20.75\" y=\"-179.2\" font-family=\"Times,serif\" font-size=\"14.00\">w2</text>\n",
       "<polyline fill=\"none\" stroke=\"black\" points=\"39.25,-166.25 39.25,-201.5\"/>\n",
       "<text text-anchor=\"middle\" x=\"76.5\" y=\"-179.2\" font-family=\"Times,serif\" font-size=\"14.00\">data 1.0</text>\n",
       "<polyline fill=\"none\" stroke=\"black\" points=\"113.75,-166.25 113.75,-201.5\"/>\n",
       "<text text-anchor=\"middle\" x=\"151.75\" y=\"-179.2\" font-family=\"Times,serif\" font-size=\"14.00\">grad 0.0</text>\n",
       "</g>\n",
       "<!-- 140190967225104* -->\n",
       "<g id=\"node13\" class=\"node\">\n",
       "<title>140190967225104*</title>\n",
       "<ellipse fill=\"none\" stroke=\"black\" cx=\"255\" cy=\"-128.5\" rx=\"27\" ry=\"18\"/>\n",
       "<text text-anchor=\"middle\" x=\"255\" y=\"-123.83\" font-family=\"Times,serif\" font-size=\"14.00\">*</text>\n",
       "</g>\n",
       "<!-- 140190967230544&#45;&gt;140190967225104* -->\n",
       "<g id=\"edge12\" class=\"edge\">\n",
       "<title>140190967230544&#45;&gt;140190967225104*</title>\n",
       "<path fill=\"none\" stroke=\"black\" d=\"M166.39,-165.06C175.08,-162.38 183.79,-159.5 192,-156.5 201.99,-152.85 212.63,-148.3 222.22,-143.93\"/>\n",
       "<polygon fill=\"black\" stroke=\"black\" points=\"223.55,-147.17 231.15,-139.78 220.6,-140.83 223.55,-147.17\"/>\n",
       "</g>\n",
       "<!-- 140190967223952 -->\n",
       "<g id=\"node2\" class=\"node\">\n",
       "<title>140190967223952</title>\n",
       "<polygon fill=\"none\" stroke=\"black\" points=\"1383.19,-54.5 1383.19,-90.5 1557.94,-90.5 1557.94,-54.5 1383.19,-54.5\"/>\n",
       "<text text-anchor=\"middle\" x=\"1395.32\" y=\"-68.2\" font-family=\"Times,serif\" font-size=\"14.00\">o</text>\n",
       "<polyline fill=\"none\" stroke=\"black\" points=\"1407.44,-55.25 1407.44,-90.5\"/>\n",
       "<text text-anchor=\"middle\" x=\"1444.69\" y=\"-68.2\" font-family=\"Times,serif\" font-size=\"14.00\">data 0.7</text>\n",
       "<polyline fill=\"none\" stroke=\"black\" points=\"1481.94,-55.25 1481.94,-90.5\"/>\n",
       "<text text-anchor=\"middle\" x=\"1519.94\" y=\"-68.2\" font-family=\"Times,serif\" font-size=\"14.00\">grad 1.0</text>\n",
       "</g>\n",
       "<!-- 140190967223952tanh -->\n",
       "<g id=\"node3\" class=\"node\">\n",
       "<title>140190967223952tanh</title>\n",
       "<ellipse fill=\"none\" stroke=\"black\" cx=\"1313.35\" cy=\"-72.5\" rx=\"33.85\" ry=\"18\"/>\n",
       "<text text-anchor=\"middle\" x=\"1313.35\" y=\"-67.83\" font-family=\"Times,serif\" font-size=\"14.00\">tanh</text>\n",
       "</g>\n",
       "<!-- 140190967223952tanh&#45;&gt;140190967223952 -->\n",
       "<g id=\"edge1\" class=\"edge\">\n",
       "<title>140190967223952tanh&#45;&gt;140190967223952</title>\n",
       "<path fill=\"none\" stroke=\"black\" d=\"M1347.65,-72.5C1354.95,-72.5 1363.05,-72.5 1371.5,-72.5\"/>\n",
       "<polygon fill=\"black\" stroke=\"black\" points=\"1371.25,-76 1381.25,-72.5 1371.25,-69 1371.25,-76\"/>\n",
       "</g>\n",
       "<!-- 140190967224976 -->\n",
       "<g id=\"node4\" class=\"node\">\n",
       "<title>140190967224976</title>\n",
       "<polygon fill=\"none\" stroke=\"black\" points=\"1.88,-55.5 1.88,-91.5 190.12,-91.5 190.12,-55.5 1.88,-55.5\"/>\n",
       "<text text-anchor=\"middle\" x=\"18.5\" y=\"-69.2\" font-family=\"Times,serif\" font-size=\"14.00\">x1</text>\n",
       "<polyline fill=\"none\" stroke=\"black\" points=\"35.12,-56.25 35.12,-91.5\"/>\n",
       "<text text-anchor=\"middle\" x=\"72.38\" y=\"-69.2\" font-family=\"Times,serif\" font-size=\"14.00\">data 2.0</text>\n",
       "<polyline fill=\"none\" stroke=\"black\" points=\"109.62,-56.25 109.62,-91.5\"/>\n",
       "<text text-anchor=\"middle\" x=\"149.88\" y=\"-69.2\" font-family=\"Times,serif\" font-size=\"14.00\">grad &#45;1.5</text>\n",
       "</g>\n",
       "<!-- 140190967231760* -->\n",
       "<g id=\"node10\" class=\"node\">\n",
       "<title>140190967231760*</title>\n",
       "<ellipse fill=\"none\" stroke=\"black\" cx=\"255\" cy=\"-73.5\" rx=\"27\" ry=\"18\"/>\n",
       "<text text-anchor=\"middle\" x=\"255\" y=\"-68.83\" font-family=\"Times,serif\" font-size=\"14.00\">*</text>\n",
       "</g>\n",
       "<!-- 140190967224976&#45;&gt;140190967231760* -->\n",
       "<g id=\"edge11\" class=\"edge\">\n",
       "<title>140190967224976&#45;&gt;140190967231760*</title>\n",
       "<path fill=\"none\" stroke=\"black\" d=\"M190.59,-73.5C199.58,-73.5 208.29,-73.5 216.23,-73.5\"/>\n",
       "<polygon fill=\"black\" stroke=\"black\" points=\"216.11,-77 226.11,-73.5 216.11,-70 216.11,-77\"/>\n",
       "</g>\n",
       "<!-- 140190967220368 -->\n",
       "<g id=\"node5\" class=\"node\">\n",
       "<title>140190967220368</title>\n",
       "<polygon fill=\"none\" stroke=\"black\" points=\"0,-0.5 0,-36.5 192,-36.5 192,-0.5 0,-0.5\"/>\n",
       "<text text-anchor=\"middle\" x=\"18.5\" y=\"-14.2\" font-family=\"Times,serif\" font-size=\"14.00\">w1</text>\n",
       "<polyline fill=\"none\" stroke=\"black\" points=\"37,-1.25 37,-36.5\"/>\n",
       "<text text-anchor=\"middle\" x=\"76.5\" y=\"-14.2\" font-family=\"Times,serif\" font-size=\"14.00\">data &#45;3.0</text>\n",
       "<polyline fill=\"none\" stroke=\"black\" points=\"116,-1.25 116,-36.5\"/>\n",
       "<text text-anchor=\"middle\" x=\"154\" y=\"-14.2\" font-family=\"Times,serif\" font-size=\"14.00\">grad 1.0</text>\n",
       "</g>\n",
       "<!-- 140190967220368&#45;&gt;140190967231760* -->\n",
       "<g id=\"edge14\" class=\"edge\">\n",
       "<title>140190967220368&#45;&gt;140190967231760*</title>\n",
       "<path fill=\"none\" stroke=\"black\" d=\"M163.53,-36.96C173.14,-39.96 182.87,-43.18 192,-46.5 201.86,-50.08 212.39,-54.46 221.92,-58.63\"/>\n",
       "<polygon fill=\"black\" stroke=\"black\" points=\"220.23,-61.71 230.79,-62.59 223.09,-55.32 220.23,-61.71\"/>\n",
       "</g>\n",
       "<!-- 140190967227088 -->\n",
       "<g id=\"node6\" class=\"node\">\n",
       "<title>140190967227088</title>\n",
       "<polygon fill=\"none\" stroke=\"black\" points=\"660,-82.5 660,-118.5 942,-118.5 942,-82.5 660,-82.5\"/>\n",
       "<text text-anchor=\"middle\" x=\"723.5\" y=\"-96.2\" font-family=\"Times,serif\" font-size=\"14.00\">x1*w1 + x2*w2</text>\n",
       "<polyline fill=\"none\" stroke=\"black\" points=\"787,-83.25 787,-118.5\"/>\n",
       "<text text-anchor=\"middle\" x=\"826.5\" y=\"-96.2\" font-family=\"Times,serif\" font-size=\"14.00\">data &#45;6.0</text>\n",
       "<polyline fill=\"none\" stroke=\"black\" points=\"866,-83.25 866,-118.5\"/>\n",
       "<text text-anchor=\"middle\" x=\"904\" y=\"-96.2\" font-family=\"Times,serif\" font-size=\"14.00\">grad 0.5</text>\n",
       "</g>\n",
       "<!-- 140190967232912+ -->\n",
       "<g id=\"node15\" class=\"node\">\n",
       "<title>140190967232912+</title>\n",
       "<ellipse fill=\"none\" stroke=\"black\" cx=\"1005\" cy=\"-72.5\" rx=\"27\" ry=\"18\"/>\n",
       "<text text-anchor=\"middle\" x=\"1005\" y=\"-67.83\" font-family=\"Times,serif\" font-size=\"14.00\">+</text>\n",
       "</g>\n",
       "<!-- 140190967227088&#45;&gt;140190967232912+ -->\n",
       "<g id=\"edge13\" class=\"edge\">\n",
       "<title>140190967227088&#45;&gt;140190967232912+</title>\n",
       "<path fill=\"none\" stroke=\"black\" d=\"M935.33,-82.02C946.72,-80.44 957.49,-78.95 966.99,-77.63\"/>\n",
       "<polygon fill=\"black\" stroke=\"black\" points=\"967.35,-81.11 976.77,-76.27 966.39,-74.18 967.35,-81.11\"/>\n",
       "</g>\n",
       "<!-- 140190967227088+ -->\n",
       "<g id=\"node7\" class=\"node\">\n",
       "<title>140190967227088+</title>\n",
       "<ellipse fill=\"none\" stroke=\"black\" cx=\"597\" cy=\"-100.5\" rx=\"27\" ry=\"18\"/>\n",
       "<text text-anchor=\"middle\" x=\"597\" y=\"-95.83\" font-family=\"Times,serif\" font-size=\"14.00\">+</text>\n",
       "</g>\n",
       "<!-- 140190967227088+&#45;&gt;140190967227088 -->\n",
       "<g id=\"edge2\" class=\"edge\">\n",
       "<title>140190967227088+&#45;&gt;140190967227088</title>\n",
       "<path fill=\"none\" stroke=\"black\" d=\"M624.41,-100.5C631.4,-100.5 639.47,-100.5 648.23,-100.5\"/>\n",
       "<polygon fill=\"black\" stroke=\"black\" points=\"648.15,-104 658.15,-100.5 648.15,-97 648.15,-104\"/>\n",
       "</g>\n",
       "<!-- 140190967227792 -->\n",
       "<g id=\"node8\" class=\"node\">\n",
       "<title>140190967227792</title>\n",
       "<polygon fill=\"none\" stroke=\"black\" points=\"4.12,-110.5 4.12,-146.5 187.88,-146.5 187.88,-110.5 4.12,-110.5\"/>\n",
       "<text text-anchor=\"middle\" x=\"20.75\" y=\"-124.2\" font-family=\"Times,serif\" font-size=\"14.00\">x2</text>\n",
       "<polyline fill=\"none\" stroke=\"black\" points=\"37.38,-111.25 37.38,-146.5\"/>\n",
       "<text text-anchor=\"middle\" x=\"74.62\" y=\"-124.2\" font-family=\"Times,serif\" font-size=\"14.00\">data 0.0</text>\n",
       "<polyline fill=\"none\" stroke=\"black\" points=\"111.88,-111.25 111.88,-146.5\"/>\n",
       "<text text-anchor=\"middle\" x=\"149.88\" y=\"-124.2\" font-family=\"Times,serif\" font-size=\"14.00\">grad 0.5</text>\n",
       "</g>\n",
       "<!-- 140190967227792&#45;&gt;140190967225104* -->\n",
       "<g id=\"edge7\" class=\"edge\">\n",
       "<title>140190967227792&#45;&gt;140190967225104*</title>\n",
       "<path fill=\"none\" stroke=\"black\" d=\"M188.33,-128.5C198.05,-128.5 207.5,-128.5 216.06,-128.5\"/>\n",
       "<polygon fill=\"black\" stroke=\"black\" points=\"216,-132 226,-128.5 216,-125 216,-132\"/>\n",
       "</g>\n",
       "<!-- 140190967231760 -->\n",
       "<g id=\"node9\" class=\"node\">\n",
       "<title>140190967231760</title>\n",
       "<polygon fill=\"none\" stroke=\"black\" points=\"318,-55.5 318,-91.5 534,-91.5 534,-55.5 318,-55.5\"/>\n",
       "<text text-anchor=\"middle\" x=\"348.5\" y=\"-69.2\" font-family=\"Times,serif\" font-size=\"14.00\">x1*w1</text>\n",
       "<polyline fill=\"none\" stroke=\"black\" points=\"379,-56.25 379,-91.5\"/>\n",
       "<text text-anchor=\"middle\" x=\"418.5\" y=\"-69.2\" font-family=\"Times,serif\" font-size=\"14.00\">data &#45;6.0</text>\n",
       "<polyline fill=\"none\" stroke=\"black\" points=\"458,-56.25 458,-91.5\"/>\n",
       "<text text-anchor=\"middle\" x=\"496\" y=\"-69.2\" font-family=\"Times,serif\" font-size=\"14.00\">grad 0.5</text>\n",
       "</g>\n",
       "<!-- 140190967231760&#45;&gt;140190967227088+ -->\n",
       "<g id=\"edge9\" class=\"edge\">\n",
       "<title>140190967231760&#45;&gt;140190967227088+</title>\n",
       "<path fill=\"none\" stroke=\"black\" d=\"M534.03,-90.6C542.8,-92 551.22,-93.35 558.87,-94.57\"/>\n",
       "<polygon fill=\"black\" stroke=\"black\" points=\"558.29,-98.02 568.72,-96.14 559.39,-91.11 558.29,-98.02\"/>\n",
       "</g>\n",
       "<!-- 140190967231760*&#45;&gt;140190967231760 -->\n",
       "<g id=\"edge3\" class=\"edge\">\n",
       "<title>140190967231760*&#45;&gt;140190967231760</title>\n",
       "<path fill=\"none\" stroke=\"black\" d=\"M282.41,-73.5C289.52,-73.5 297.7,-73.5 306.47,-73.5\"/>\n",
       "<polygon fill=\"black\" stroke=\"black\" points=\"306.34,-77 316.34,-73.5 306.34,-70 306.34,-77\"/>\n",
       "</g>\n",
       "<!-- 140190967230224 -->\n",
       "<g id=\"node11\" class=\"node\">\n",
       "<title>140190967230224</title>\n",
       "<polygon fill=\"none\" stroke=\"black\" points=\"713.25,-27.5 713.25,-63.5 888.75,-63.5 888.75,-27.5 713.25,-27.5\"/>\n",
       "<text text-anchor=\"middle\" x=\"725.75\" y=\"-41.2\" font-family=\"Times,serif\" font-size=\"14.00\">b</text>\n",
       "<polyline fill=\"none\" stroke=\"black\" points=\"738.25,-28.25 738.25,-63.5\"/>\n",
       "<text text-anchor=\"middle\" x=\"775.5\" y=\"-41.2\" font-family=\"Times,serif\" font-size=\"14.00\">data 6.9</text>\n",
       "<polyline fill=\"none\" stroke=\"black\" points=\"812.75,-28.25 812.75,-63.5\"/>\n",
       "<text text-anchor=\"middle\" x=\"850.75\" y=\"-41.2\" font-family=\"Times,serif\" font-size=\"14.00\">grad 0.5</text>\n",
       "</g>\n",
       "<!-- 140190967230224&#45;&gt;140190967232912+ -->\n",
       "<g id=\"edge6\" class=\"edge\">\n",
       "<title>140190967230224&#45;&gt;140190967232912+</title>\n",
       "<path fill=\"none\" stroke=\"black\" d=\"M889.13,-57.15C916.34,-60.78 944.92,-64.6 966.76,-67.52\"/>\n",
       "<polygon fill=\"black\" stroke=\"black\" points=\"966.28,-70.99 976.65,-68.84 967.21,-64.05 966.28,-70.99\"/>\n",
       "</g>\n",
       "<!-- 140190967225104 -->\n",
       "<g id=\"node12\" class=\"node\">\n",
       "<title>140190967225104</title>\n",
       "<polygon fill=\"none\" stroke=\"black\" points=\"320.25,-110.5 320.25,-146.5 531.75,-146.5 531.75,-110.5 320.25,-110.5\"/>\n",
       "<text text-anchor=\"middle\" x=\"350.75\" y=\"-124.2\" font-family=\"Times,serif\" font-size=\"14.00\">x2*w2</text>\n",
       "<polyline fill=\"none\" stroke=\"black\" points=\"381.25,-111.25 381.25,-146.5\"/>\n",
       "<text text-anchor=\"middle\" x=\"418.5\" y=\"-124.2\" font-family=\"Times,serif\" font-size=\"14.00\">data 0.0</text>\n",
       "<polyline fill=\"none\" stroke=\"black\" points=\"455.75,-111.25 455.75,-146.5\"/>\n",
       "<text text-anchor=\"middle\" x=\"493.75\" y=\"-124.2\" font-family=\"Times,serif\" font-size=\"14.00\">grad 0.5</text>\n",
       "</g>\n",
       "<!-- 140190967225104&#45;&gt;140190967227088+ -->\n",
       "<g id=\"edge10\" class=\"edge\">\n",
       "<title>140190967225104&#45;&gt;140190967227088+</title>\n",
       "<path fill=\"none\" stroke=\"black\" d=\"M532.11,-111.09C541.58,-109.52 550.68,-108.01 558.9,-106.65\"/>\n",
       "<polygon fill=\"black\" stroke=\"black\" points=\"559.46,-110.1 568.76,-105.01 558.32,-103.2 559.46,-110.1\"/>\n",
       "</g>\n",
       "<!-- 140190967225104*&#45;&gt;140190967225104 -->\n",
       "<g id=\"edge4\" class=\"edge\">\n",
       "<title>140190967225104*&#45;&gt;140190967225104</title>\n",
       "<path fill=\"none\" stroke=\"black\" d=\"M282.41,-128.5C290.08,-128.5 298.99,-128.5 308.54,-128.5\"/>\n",
       "<polygon fill=\"black\" stroke=\"black\" points=\"308.5,-132 318.5,-128.5 308.5,-125 308.5,-132\"/>\n",
       "</g>\n",
       "<!-- 140190967232912 -->\n",
       "<g id=\"node14\" class=\"node\">\n",
       "<title>140190967232912</title>\n",
       "<polygon fill=\"none\" stroke=\"black\" points=\"1068,-54.5 1068,-90.5 1243.5,-90.5 1243.5,-54.5 1068,-54.5\"/>\n",
       "<text text-anchor=\"middle\" x=\"1080.5\" y=\"-68.2\" font-family=\"Times,serif\" font-size=\"14.00\">n</text>\n",
       "<polyline fill=\"none\" stroke=\"black\" points=\"1093,-55.25 1093,-90.5\"/>\n",
       "<text text-anchor=\"middle\" x=\"1130.25\" y=\"-68.2\" font-family=\"Times,serif\" font-size=\"14.00\">data 0.9</text>\n",
       "<polyline fill=\"none\" stroke=\"black\" points=\"1167.5,-55.25 1167.5,-90.5\"/>\n",
       "<text text-anchor=\"middle\" x=\"1205.5\" y=\"-68.2\" font-family=\"Times,serif\" font-size=\"14.00\">grad 0.5</text>\n",
       "</g>\n",
       "<!-- 140190967232912&#45;&gt;140190967223952tanh -->\n",
       "<g id=\"edge8\" class=\"edge\">\n",
       "<title>140190967232912&#45;&gt;140190967223952tanh</title>\n",
       "<path fill=\"none\" stroke=\"black\" d=\"M1243.65,-72.5C1252.06,-72.5 1260.33,-72.5 1268.05,-72.5\"/>\n",
       "<polygon fill=\"black\" stroke=\"black\" points=\"1267.79,-76 1277.79,-72.5 1267.79,-69 1267.79,-76\"/>\n",
       "</g>\n",
       "<!-- 140190967232912+&#45;&gt;140190967232912 -->\n",
       "<g id=\"edge5\" class=\"edge\">\n",
       "<title>140190967232912+&#45;&gt;140190967232912</title>\n",
       "<path fill=\"none\" stroke=\"black\" d=\"M1032.25,-72.5C1039.41,-72.5 1047.6,-72.5 1056.29,-72.5\"/>\n",
       "<polygon fill=\"black\" stroke=\"black\" points=\"1056,-76 1066,-72.5 1056,-69 1056,-76\"/>\n",
       "</g>\n",
       "</g>\n",
       "</svg>\n"
      ],
      "text/plain": [
       "<graphviz.graphs.Digraph at 0x7f80c0cfff50>"
      ]
     },
     "execution_count": 15,
     "metadata": {},
     "output_type": "execute_result"
    }
   ],
   "source": [
    "draw_dot(o)"
   ]
  },
  {
   "cell_type": "code",
   "execution_count": 14,
   "metadata": {},
   "outputs": [],
   "source": [
    "o.backward()"
   ]
  },
  {
   "cell_type": "code",
   "execution_count": 92,
   "metadata": {},
   "outputs": [],
   "source": [
    "class Neuron:\n",
    "    def __init__(self, n_in: int):\n",
    "        self.w = [Value(random.uniform(-1, 1)) for _ in range(n_in)]\n",
    "        self.b = Value(random.uniform(-1, 1))\n",
    "\n",
    "    def __call__(self, x: list[Value] | list[float]):\n",
    "        # This is just the sum of all inputs times all weights plus the bias.\n",
    "        # w*x + b\n",
    "        activation = sum(wi*xi for wi, xi in zip(self.w, x)) + self.b\n",
    "        out = activation.tanh()\n",
    "        return out\n",
    "    \n",
    "    def parameters(self):\n",
    "        return self.w + [self.b]\n",
    "    \n",
    "class Layer:\n",
    "    def __init__(self, n_in: int , n_out: int):\n",
    "        # Creates a number of neurons based on the number of outputs we want\n",
    "        # from the layer.\n",
    "        # In a fully connected neural net, all outputs from the prior layers\n",
    "        # are fed into each neuron as inputs.\n",
    "        self.neurons = [Neuron(n_in) for _ in range(n_out)]\n",
    "\n",
    "    def __call__(self, x):\n",
    "        outs = [n(x) for n in self.neurons]\n",
    "        # To simplify, return just number instead of array if single item\n",
    "        return outs[0] if len(outs) == 1 else outs\n",
    "    \n",
    "    def parameters(self):\n",
    "        return [p for neuron in self.neurons for p in neuron.parameters()]\n",
    "    \n",
    "class MLP:\n",
    "    \"\"\"\n",
    "    A MLP - MultiLayer Perceptron - is a fully connected feedforward neural\n",
    "    network architecture.\n",
    "    Understanding this architecture from scratch and in depth is a good \n",
    "    foundation for building up to more advanced ones like CNNs and RNNs.\n",
    "    \"\"\"\n",
    "    def __init__(self, n_in: int, n_outs: list[int]):\n",
    "        sz = [n_in] + n_outs\n",
    "        # In a MLP, each layer's number of neurons is the size of the next\n",
    "        # layer's input size.\n",
    "        self.layers = [Layer(sz[i], sz[i+1]) for i in range(len(n_outs))]\n",
    "\n",
    "    def __call__(self, x):\n",
    "        for layer in self.layers:\n",
    "            x = layer(x)\n",
    "        return x\n",
    "    \n",
    "    def parameters(self):\n",
    "        return [p for layer in self.layers for p in layer.parameters()]"
   ]
  },
  {
   "cell_type": "code",
   "execution_count": 43,
   "metadata": {},
   "outputs": [
    {
     "data": {
      "text/plain": [
       "Value(data=0.9852615397996309)"
      ]
     },
     "execution_count": 43,
     "metadata": {},
     "output_type": "execute_result"
    }
   ],
   "source": [
    "x = [2.0, 3.0]\n",
    "n = Neuron(2)\n",
    "n(x)"
   ]
  },
  {
   "cell_type": "code",
   "execution_count": 140,
   "metadata": {},
   "outputs": [],
   "source": [
    "nn = MLP(3, [4, 4, 1])"
   ]
  },
  {
   "cell_type": "code",
   "execution_count": 141,
   "metadata": {},
   "outputs": [
    {
     "data": {
      "text/plain": [
       "[Value(data=0.2644066048462075),\n",
       " Value(data=0.43581390493039907),\n",
       " Value(data=-0.16324727468030664),\n",
       " Value(data=0.01731676059052001),\n",
       " Value(data=0.6604677642820267),\n",
       " Value(data=0.8102835108754238),\n",
       " Value(data=-0.27939006209170825),\n",
       " Value(data=-0.48518875140050666),\n",
       " Value(data=0.44872785290885475),\n",
       " Value(data=0.5440889479437285),\n",
       " Value(data=0.06353226506375753),\n",
       " Value(data=-0.8059184312478394),\n",
       " Value(data=-0.2173423165934556),\n",
       " Value(data=0.3075549298976572),\n",
       " Value(data=0.12879683965206246),\n",
       " Value(data=-0.12967076999746596),\n",
       " Value(data=0.8124852367297926),\n",
       " Value(data=0.2530536441093387),\n",
       " Value(data=0.17486074901519677),\n",
       " Value(data=0.4264468581281089),\n",
       " Value(data=0.5621978800829373),\n",
       " Value(data=0.0954082086688286),\n",
       " Value(data=0.41572324383589687),\n",
       " Value(data=0.15365063489638442),\n",
       " Value(data=-0.017702975953491018),\n",
       " Value(data=-0.5969557142447339),\n",
       " Value(data=-0.1433572689550986),\n",
       " Value(data=0.7823425676088649),\n",
       " Value(data=0.7730284187056655),\n",
       " Value(data=-0.1930083575682937),\n",
       " Value(data=-0.12425332739200501),\n",
       " Value(data=-0.5398830131406136),\n",
       " Value(data=0.3508310947198101),\n",
       " Value(data=0.26972690852218717),\n",
       " Value(data=0.70133074888565),\n",
       " Value(data=-0.6134927702553075),\n",
       " Value(data=-0.7209336151090324),\n",
       " Value(data=-0.6990834205690888),\n",
       " Value(data=0.4063182359191053),\n",
       " Value(data=-0.9543952893582581),\n",
       " Value(data=-0.5110101374166776)]"
      ]
     },
     "execution_count": 141,
     "metadata": {},
     "output_type": "execute_result"
    }
   ],
   "source": [
    "nn.parameters()"
   ]
  },
  {
   "cell_type": "code",
   "execution_count": 142,
   "metadata": {},
   "outputs": [
    {
     "data": {
      "text/plain": [
       "[Value(data=-0.5018708108269988),\n",
       " Value(data=0.25581808342509593),\n",
       " Value(data=-0.2827645186250458),\n",
       " Value(data=-0.1921904819820573)]"
      ]
     },
     "execution_count": 142,
     "metadata": {},
     "output_type": "execute_result"
    }
   ],
   "source": [
    "xs = [\n",
    "  [2.0, 3.0, -1.0],\n",
    "  [3.0, -1.0, 0.5],\n",
    "  [0.5, 1.0, 1.0],\n",
    "  [1.0, 1.0, -1.0],\n",
    "]\n",
    "ys = [1.0, -1.0, -1.0, 1.0] # desired targets\n",
    "y_preds = [nn(x) for x in xs]\n",
    "y_preds"
   ]
  },
  {
   "cell_type": "code",
   "execution_count": 143,
   "metadata": {},
   "outputs": [],
   "source": [
    "def mse_loss(y_preds: list[Value], y_grnds: list[Value]):\n",
    "    return sum([\n",
    "        (y_pred - y_grnd)**2 \n",
    "        for y_pred, y_grnd in zip(y_preds, y_grnds)\n",
    "    ]) / len(y_preds)"
   ]
  },
  {
   "cell_type": "code",
   "execution_count": 144,
   "metadata": {},
   "outputs": [
    {
     "data": {
      "text/plain": [
       "Value(data=1.4421099680358498)"
      ]
     },
     "execution_count": 144,
     "metadata": {},
     "output_type": "execute_result"
    }
   ],
   "source": [
    "loss = mse_loss(y_preds, ys)\n",
    "loss"
   ]
  },
  {
   "cell_type": "code",
   "execution_count": 218,
   "metadata": {},
   "outputs": [
    {
     "data": {
      "text/plain": [
       "Value(data=0.005246415229329551)"
      ]
     },
     "execution_count": 218,
     "metadata": {},
     "output_type": "execute_result"
    }
   ],
   "source": [
    "for p in nn.parameters():\n",
    "    p.grad = 0.0\n",
    "\n",
    "loss.backward()\n",
    "\n",
    "for p in nn.parameters():\n",
    "    p.data -= 0.1 * p.grad\n",
    "\n",
    "y_preds = [nn(x) for x in xs]\n",
    "loss = mse_loss(y_preds, ys)\n",
    "loss"
   ]
  },
  {
   "cell_type": "code",
   "execution_count": 219,
   "metadata": {},
   "outputs": [
    {
     "data": {
      "text/plain": [
       "[Value(data=0.9399768602395079),\n",
       " Value(data=-0.9439333795153589),\n",
       " Value(data=-0.9278557739804176),\n",
       " Value(data=0.9049493380871165)]"
      ]
     },
     "execution_count": 219,
     "metadata": {},
     "output_type": "execute_result"
    }
   ],
   "source": [
    "y_preds"
   ]
  },
  {
   "cell_type": "code",
   "execution_count": null,
   "metadata": {},
   "outputs": [],
   "source": [
    "# Even for this simple neural net, the dot graph visualization of each gradient\n",
    "# gets explosively more complex and no longer traceable by eye.\n",
    "draw_dot(loss)"
   ]
  },
  {
   "cell_type": "code",
   "execution_count": 234,
   "metadata": {},
   "outputs": [
    {
     "data": {
      "text/plain": [
       "[Value(data=0.9937508127574339),\n",
       " Value(data=-0.9908913353407405),\n",
       " Value(data=-0.9861939635043329),\n",
       " Value(data=0.9849377586935727)]"
      ]
     },
     "execution_count": 234,
     "metadata": {},
     "output_type": "execute_result"
    }
   ],
   "source": [
    "xs = [\n",
    "  [2.0, 3.0, -1.0],\n",
    "  [3.0, -1.0, 0.5],\n",
    "  [0.5, 1.0, 1.0],\n",
    "  [1.0, 1.0, -1.0],\n",
    "]\n",
    "ys = [1.0, -1.0, -1.0, 1.0] # desired targets\n",
    "\n",
    "def mse_loss(y_preds: list[Value], y_grnds: list[Value]):\n",
    "    return sum([\n",
    "        (y_pred - y_grnd)**2 \n",
    "        for y_pred, y_grnd in zip(y_preds, y_grnds)\n",
    "    ]) / len(y_preds)\n",
    "\n",
    "nn = MLP(3, [4, 4, 1])\n",
    "\n",
    "for i in range(200):\n",
    "  for p in nn.parameters():\n",
    "      p.grad = 0.0\n",
    "\n",
    "  loss.backward()\n",
    "\n",
    "  for p in nn.parameters():\n",
    "      p.data -= 0.9 * p.grad\n",
    "\n",
    "  y_preds = [nn(x) for x in xs]\n",
    "  loss = mse_loss(y_preds, ys)\n",
    "\n",
    "y_preds"
   ]
  },
  {
   "cell_type": "code",
   "execution_count": 246,
   "metadata": {},
   "outputs": [
    {
     "data": {
      "text/plain": [
       "float"
      ]
     },
     "execution_count": 246,
     "metadata": {},
     "output_type": "execute_result"
    }
   ],
   "source": [
    "type(float(list(xs)[0]))"
   ]
  },
  {
   "cell_type": "code",
   "execution_count": 258,
   "metadata": {},
   "outputs": [
    {
     "data": {
      "text/plain": [
       "[<matplotlib.lines.Line2D at 0x7f316c4e7190>]"
      ]
     },
     "execution_count": 258,
     "metadata": {},
     "output_type": "execute_result"
    },
    {
     "data": {
      "image/png": "[encoded data removed]",
      "text/plain": [
       "<Figure size 640x480 with 1 Axes>"
      ]
     },
     "metadata": {},
     "output_type": "display_data"
    }
   ],
   "source": [
    "xs = np.arange(-1, 1, 0.1)\n",
    "ys = xs**2\n",
    "\n",
    "plt.plot(xs, ys)"
   ]
  },
  {
   "cell_type": "code",
   "execution_count": 259,
   "metadata": {},
   "outputs": [
    {
     "data": {
      "text/plain": [
       "[[-1.0],\n",
       " [-0.9],\n",
       " [-0.8],\n",
       " [-0.7000000000000001],\n",
       " [-0.6000000000000001],\n",
       " [-0.5000000000000001],\n",
       " [-0.40000000000000013],\n",
       " [-0.30000000000000016],\n",
       " [-0.20000000000000018],\n",
       " [-0.1000000000000002],\n",
       " [-2.220446049250313e-16],\n",
       " [0.09999999999999964],\n",
       " [0.19999999999999973],\n",
       " [0.2999999999999998],\n",
       " [0.3999999999999997],\n",
       " [0.49999999999999956],\n",
       " [0.5999999999999996],\n",
       " [0.6999999999999997],\n",
       " [0.7999999999999996],\n",
       " [0.8999999999999995]]"
      ]
     },
     "execution_count": 259,
     "metadata": {},
     "output_type": "execute_result"
    }
   ],
   "source": [
    "xs_shaped = [[x] for x in xs]\n",
    "xs_shaped"
   ]
  },
  {
   "cell_type": "code",
   "execution_count": 272,
   "metadata": {},
   "outputs": [
    {
     "data": {
      "text/plain": [
       "[Value(data=0.7136749617254146),\n",
       " Value(data=0.6697112061537608),\n",
       " Value(data=0.6118245129219421),\n",
       " Value(data=0.5381873759750051),\n",
       " Value(data=0.4487844740626463),\n",
       " Value(data=0.3468631232427318),\n",
       " Value(data=0.2396778917640216),\n",
       " Value(data=0.13751423994105566),\n",
       " Value(data=0.051157912524582586),\n",
       " Value(data=-0.01059087983231429),\n",
       " Value(data=-0.04191960690421091),\n",
       " Value(data=-0.039581444990628864),\n",
       " Value(data=-0.0021519568799030675),\n",
       " Value(data=0.0698852914692448),\n",
       " Value(data=0.17249748864703388),\n",
       " Value(data=0.2954423543962486),\n",
       " Value(data=0.4218090754215653),\n",
       " Value(data=0.5334166238468895),\n",
       " Value(data=0.6190181231259648),\n",
       " Value(data=0.6772300013902377)]"
      ]
     },
     "execution_count": 272,
     "metadata": {},
     "output_type": "execute_result"
    }
   ],
   "source": [
    "def mse_loss(y_preds: list[Value], y_grnds: list[Value]):\n",
    "    return sum([\n",
    "        (y_pred - y_grnd)**2 \n",
    "        for y_pred, y_grnd in zip(y_preds, y_grnds)\n",
    "    ]) / len(y_preds)\n",
    "\n",
    "nn = MLP(1, [10, 10, 1])\n",
    "\n",
    "for i in range(1000):\n",
    "  for p in nn.parameters():\n",
    "      p.grad = 0.0\n",
    "\n",
    "  loss.backward()\n",
    "\n",
    "  for p in nn.parameters():\n",
    "      p.data -= 0.01 * p.grad\n",
    "\n",
    "  y_preds = [nn(x) for x in xs_shaped]\n",
    "  loss = mse_loss(y_preds, ys)\n",
    "\n",
    "y_preds"
   ]
  },
  {
   "cell_type": "code",
   "execution_count": 276,
   "metadata": {},
   "outputs": [
    {
     "data": {
      "image/png": "[encoded data removed]",
      "text/plain": [
       "<Figure size 640x480 with 1 Axes>"
      ]
     },
     "metadata": {},
     "output_type": "display_data"
    }
   ],
   "source": [
    "plt.plot(xs, [y.data for y in y_preds], label=\"Preds\")\n",
    "plt.plot(xs, ys, label=\"Actual\")\n",
    "plt.legend()\n",
    "plt.show()"
   ]
  }
 ],
 "metadata": {
  "kernelspec": {
   "display_name": "ai-base",
   "language": "python",
   "name": "python3"
  },
  "language_info": {
   "codemirror_mode": {
    "name": "ipython",
    "version": 3
   },
   "file_extension": ".py",
   "mimetype": "text/x-python",
   "name": "python",
   "nbconvert_exporter": "python",
   "pygments_lexer": "ipython3",
   "version": "3.11.6"
  }
 },
 "nbformat": 4,
 "nbformat_minor": 2
}
